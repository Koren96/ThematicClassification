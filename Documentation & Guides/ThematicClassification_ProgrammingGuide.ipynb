{
  "nbformat": 4,
  "nbformat_minor": 0,
  "metadata": {
    "colab": {
      "provenance": []
    },
    "kernelspec": {
      "name": "python3",
      "display_name": "Python 3"
    },
    "language_info": {
      "name": "python"
    }
  },
  "cells": [
    {
      "cell_type": "markdown",
      "source": [
        "**THEMATIC_CLASSIFICATION PLUGIN**"
      ],
      "metadata": {
        "id": "YIH-i5Bj7-Rs"
      }
    },
    {
      "cell_type": "markdown",
      "source": [
        "The **Thematic Classification** plugin is a QGIS plugin that can classify land cover classes in satellite images using different methods of supervised and unsupervised classification.\n",
        "\n",
        "In this notebook, the main python file \"*thematic_classification.py*\" will be explained and commented, so that anyone who wants to edit it, expand it or improve it, will be able to properly understand what was done, why, and where.\n"
      ],
      "metadata": {
        "id": "t5RWwBE-6pOf"
      }
    },
    {
      "cell_type": "markdown",
      "source": [
        "As for any code, in the first part we define the import of libraries and modules that we are going to need during the implementation of the code. These include, as an example, a variety of standard python libraries, machine learning modules (sklearn), qgis data management (gdal), and plugin aiding modules (PyQt, qgis)."
      ],
      "metadata": {
        "id": "62CWYA4p8JCV"
      }
    },
    {
      "cell_type": "code",
      "execution_count": null,
      "metadata": {
        "id": "xngKupVF6mki"
      },
      "outputs": [],
      "source": [
        "from qgis.PyQt.QtCore import QSettings, QTranslator, QCoreApplication\n",
        "from qgis.PyQt.QtGui import QIcon\n",
        "from qgis.PyQt.QtWidgets import QAction, QFileDialog, QMessageBox, QDialog, QProgressBar\n",
        "from qgis.PyQt.QtWidgets import QVBoxLayout, QWidget, QSizePolicy\n",
        "from qgis.core import QgsProject, Qgis\n",
        "from qgis.gui import QgsMessageBar\n",
        "from PyQt5 import QtGui\n",
        "import time\n",
        "import numpy as np\n",
        "from osgeo import gdal\n",
        "from sklearn.cluster import MiniBatchKMeans\n",
        "from sklearn.naive_bayes import GaussianNB\n",
        "from sklearn.model_selection import train_test_split\n",
        "from sklearn.neighbors import KNeighborsClassifier\n",
        "from sklearn.svm import LinearSVC\n",
        "from sklearn.neural_network import MLPClassifier\n",
        "from sklearn.linear_model import LogisticRegression\n",
        "from sklearn.ensemble import RandomForestClassifier\n",
        "#from sklearn.linear_model import RidgeClassifier\n",
        "from sklearn.cluster import KMeans\n",
        "from joblib import dump, load\n",
        "import webbrowser\n",
        "from datetime import datetime\n",
        "# Initialize Qt resources from file resources.py\n",
        "from .resources import *\n",
        "# Import the code for the dialog\n",
        "from .thematic_classification_dialog import ThematicClassificationDialog\n",
        "import os.path"
      ]
    },
    {
      "cell_type": "markdown",
      "source": [
        "We then go on to define a class named ThematicClassification, which represents the implementation of the QGIS plugin."
      ],
      "metadata": {
        "id": "tbftET946n0Q"
      }
    },
    {
      "cell_type": "code",
      "source": [
        "class ThematicClassification:"
      ],
      "metadata": {
        "id": "La_1nGFy9EBd"
      },
      "execution_count": null,
      "outputs": []
    },
    {
      "cell_type": "markdown",
      "source": [
        "This code initializes the *Thematic Classification* class, by setting up:\n",
        "\n",
        "1.   QGIS interface reference\n",
        "2.   Plugin directory\n",
        "3.   Local settings\n",
        "4.   Translation\n",
        "5.   Instance attributes\n",
        "\n",
        "It lays down the foundation for the plugin to interact with QGIS."
      ],
      "metadata": {
        "id": "Fb24nIEQ9GuU"
      }
    },
    {
      "cell_type": "code",
      "source": [
        "## The init method is the constructor of the class.\n",
        "## It takes an iface parameter - an instance of the QgsInterface class that\n",
        "## provides a hook for interacting with the QGIS app\n",
        "def __init__(self, iface):\n",
        "        \"\"\"Constructor.\n",
        "        :param iface: An interface instance that will be passed to this class\n",
        "            which provides the hook by which you can manipulate the QGIS\n",
        "            application at run time.\n",
        "        :type iface: QgsInterface\n",
        "        \"\"\"\n",
        "        ## In this part, the iface parameter is saved as an instance attribute self.iface,\n",
        "        ## which allows access to the QGIS interface throughout the plugin.\n",
        "        self.iface = iface\n",
        "\n",
        "        ## The plugin directory is initialized by getting the directory path of the current file using os.path.dirname(__file__).\n",
        "        ## This allows the plugin to reference files and resources relative to its location.\n",
        "        self.plugin_dir = os.path.dirname(__file__)\n",
        "\n",
        "        ## This retrieves the user's local settings. It extracts the first two characters\n",
        "        ## to get the language code.\n",
        "        locale = QSettings().value('locale/userLocale')[0:2]\n",
        "        ## this sets the local path by joining the 3 arguments.\n",
        "        locale_path = os.path.join(\n",
        "            self.plugin_dir,\n",
        "            'i18n',\n",
        "            'SupervisedClassification_{}.qm'.format(locale))\n",
        "\n",
        "        ## If the translation file exists at the path that we have just created,\n",
        "        ## we create a instance of QTranslator and load it with the translation\n",
        "        ## file. Then we call to install the translator, so that the user inter-\n",
        "        ## face elements may be translated\n",
        "        if os.path.exists(locale_path):\n",
        "            self.translator = QTranslator()\n",
        "            self.translator.load(locale_path)\n",
        "            QCoreApplication.installTranslator(self.translator)\n",
        "\n",
        "        ## Declares instance attributes. self.actions is an empty list that will\n",
        "        ## store the plugin's actions. self.menu will translate the plugin's menu\n",
        "        self.actions = []\n",
        "        self.menu = self.tr(u'&Supervised Classification')\n",
        "\n",
        "        ## This checks if the plugin was already started for the first time in\n",
        "        ## the current QGIS session and needs to perform some initialization tasks.\n",
        "        ## It will be set later on, in the initGui() method, in order to survive\n",
        "        ## plugin reloads\n",
        "        self.first_start = None"
      ],
      "metadata": {
        "id": "VOJNmRNg9UcV"
      },
      "execution_count": null,
      "outputs": []
    },
    {
      "cell_type": "markdown",
      "source": [
        "The `tr()` function provides a method to translate strings within the user interface, by using the Qt translation API."
      ],
      "metadata": {
        "id": "07Lb5TxEAi_S"
      }
    },
    {
      "cell_type": "code",
      "source": [
        " # noinspection PyMethodMayBeStatic\n",
        "    def tr(self, message):\n",
        "        \"\"\"Get the translation for a string using Qt translation API.\n",
        "\n",
        "        We implement this ourselves since we do not inherit QObject.\n",
        "\n",
        "        :param message: String for translation.\n",
        "        :type message: str, QString\n",
        "\n",
        "        :returns: Translated version of message.\n",
        "        :rtype: QString\n",
        "        \"\"\"\n",
        "        # noinspection PyTypeChecker,PyArgumentList,PyCallByClass\n",
        "        return QCoreApplication.translate('SupervisedClassification', message)"
      ],
      "metadata": {
        "id": "hj4l21ZxAjZI"
      },
      "execution_count": null,
      "outputs": []
    },
    {
      "cell_type": "markdown",
      "source": [
        "The `add_action` function gives a way to create and add actions to the plugin's user interface, like toolbar icons and menu items. It allows the customization of various parameters related to the action and handles the processes to integrate the action in the GUI.\n",
        "\n",
        "Not much will be said about this, as it a standard implementation"
      ],
      "metadata": {
        "id": "5G06jT3PBK2Q"
      }
    },
    {
      "cell_type": "code",
      "source": [
        " def add_action(\n",
        "        self,\n",
        "        icon_path,\n",
        "        text,\n",
        "        callback,\n",
        "        enabled_flag=True,\n",
        "        add_to_menu=True,\n",
        "        add_to_toolbar=True,\n",
        "        status_tip=None,\n",
        "        whats_this=None,\n",
        "        parent=None):\n",
        "        \"\"\"Add a toolbar icon to the toolbar.\n",
        "\n",
        "        :param icon_path: Path to the icon for this action. Can be a resource\n",
        "            path (e.g. ':/plugins/foo/bar.png') or a normal file system path.\n",
        "        :type icon_path: str\n",
        "\n",
        "        :param text: Text that should be shown in menu items for this action.\n",
        "        :type text: str\n",
        "\n",
        "        :param callback: Function to be called when the action is triggered.\n",
        "        :type callback: function\n",
        "\n",
        "        :param enabled_flag: A flag indicating if the action should be enabled\n",
        "            by default. Defaults to True.\n",
        "        :type enabled_flag: bool\n",
        "\n",
        "        :param add_to_menu: Flag indicating whether the action should also\n",
        "            be added to the menu. Defaults to True.\n",
        "        :type add_to_menu: bool\n",
        "\n",
        "        :param add_to_toolbar: Flag indicating whether the action should also\n",
        "            be added to the toolbar. Defaults to True.\n",
        "        :type add_to_toolbar: bool\n",
        "\n",
        "        :param status_tip: Optional text to show in a popup when mouse pointer\n",
        "            hovers over the action.\n",
        "        :type status_tip: str\n",
        "\n",
        "        :param parent: Parent widget for the new action. Defaults None.\n",
        "        :type parent: QWidget\n",
        "\n",
        "        :param whats_this: Optional text to show in the status bar when the\n",
        "            mouse pointer hovers over the action.\n",
        "\n",
        "        :returns: The action that was created. Note that the action is also\n",
        "            added to self.actions list.\n",
        "        :rtype: QAction\n",
        "        \"\"\"\n",
        "\n",
        "        icon = QIcon(icon_path)\n",
        "        action = QAction(icon, text, parent)\n",
        "        action.triggered.connect(callback)\n",
        "        action.setEnabled(enabled_flag)\n",
        "\n",
        "        if status_tip is not None:\n",
        "            action.setStatusTip(status_tip)\n",
        "\n",
        "        if whats_this is not None:\n",
        "            action.setWhatsThis(whats_this)\n",
        "\n",
        "        if add_to_toolbar:\n",
        "            # Adds plugin icon to Plugins toolbar\n",
        "            self.iface.addToolBarIcon(action)\n",
        "\n",
        "        if add_to_menu:\n",
        "            self.iface.addPluginToMenu(\n",
        "                self.menu,\n",
        "                action)\n",
        "\n",
        "        self.actions.append(action)\n",
        "\n",
        "        return action"
      ],
      "metadata": {
        "id": "_TV-6Bi2p5j6"
      },
      "execution_count": null,
      "outputs": []
    },
    {
      "cell_type": "markdown",
      "source": [
        "This part defines the `initGui()`function, which creates the menu entries and toolbar icons in the GUI.\n",
        "\n",
        "This part of the code also comes automatically with Plugin Builder."
      ],
      "metadata": {
        "id": "yxf_muU1qFXQ"
      }
    },
    {
      "cell_type": "code",
      "source": [
        "def initGui(self):\n",
        "        \"\"\"Create the menu entries and toolbar icons inside the QGIS GUI.\"\"\"\n",
        "        icon_path = ':/plugins/thematic_classification/icon.png'\n",
        "        self.add_action(\n",
        "            icon_path,\n",
        "            text=self.tr(u'Thematic Classification'),\n",
        "            callback=self.run,\n",
        "            parent=self.iface.mainWindow())\n",
        "        # will be set False in run()\n",
        "        self.first_start = True"
      ],
      "metadata": {
        "id": "_3sGEddgqJih"
      },
      "execution_count": null,
      "outputs": []
    },
    {
      "cell_type": "markdown",
      "source": [
        "The `unload()` function is responsible for the removal of the plugin item and icon from QGIS. It basically removes the plugin when one decides to unload it / deactivate it.\n",
        "\n",
        "This too is automatically provided by Plugin Builder."
      ],
      "metadata": {
        "id": "SibGIA35rMPK"
      }
    },
    {
      "cell_type": "code",
      "source": [
        "def unload(self):\n",
        "        \"\"\"Removes the plugin menu item and icon from QGIS GUI.\"\"\"\n",
        "        for action in self.actions:\n",
        "            self.iface.removePluginMenu(\n",
        "                self.tr(u'&Thematic Classification'),\n",
        "                action)\n",
        "            self.iface.removeToolBarIcon(action)"
      ],
      "metadata": {
        "id": "Hawj5TTkry-o"
      },
      "execution_count": null,
      "outputs": []
    },
    {
      "cell_type": "markdown",
      "source": [
        "The `selectClassifiedFile()` function opens the file dialog, allowing the user to select a file where the output will be saved after the classification process.\n",
        "\n",
        "More information can be found below the code."
      ],
      "metadata": {
        "id": "-8Y2G7Q6r1AC"
      }
    },
    {
      "cell_type": "code",
      "source": [
        "def selectClassifiedFile(self):\n",
        "        filename, _filter = QFileDialog.getSaveFileName(self.dlg, \"Select output file \",\"\", '*.tiff')\n",
        "        self.dlg.leClassName.setText(filename)"
      ],
      "metadata": {
        "id": "sQLJC6z5uYnp"
      },
      "execution_count": null,
      "outputs": []
    },
    {
      "cell_type": "markdown",
      "source": [
        "`QFileDialog.getSaveFileName` opens the file dialog to save the file.\n",
        "\n",
        "The parameters called are the following:\n",
        "*   `self.dlg` is the parent widget for the file dialog, which ensures that it stay on top of the plugin's main dialog\n",
        "*   `Select output file` is the title of the dialog\n",
        "*   `\"\"` is the empty string which is given as the initial directory for the file dialog. It allows to navigate any directory.\n",
        "*   `.tiff` restricts the selectable items to only TIFF ones.\n",
        "\n",
        "The method retrns a tuple, which contains the selected `filename` and `filter`. Since the latter is not used in the code, it is assigned to a variable `_filter` which is ignored in the code.\n",
        "\n",
        "`filename` is then set as the text of `leClassName` in the plugin dialog - `self.dlg`, which is used to display the chosen path."
      ],
      "metadata": {
        "id": "PMkOW8DHueOn"
      }
    },
    {
      "cell_type": "code",
      "source": [
        "def selectModelFile(self):\n",
        "    modelname, _filter = QFileDialog.getSaveFileName(self.dlg, \"Select output file \", \"\", '*.joblib')\n",
        "    self.dlg.leModelName.setText(modelname)"
      ],
      "metadata": {
        "id": "945cbc1nudbQ"
      },
      "execution_count": null,
      "outputs": []
    },
    {
      "cell_type": "markdown",
      "source": [
        "The `selectModelFile()` function opens a file dialog, enables the user to select the file where to save the trained model and updates the line_edit widget with the chosen file path."
      ],
      "metadata": {
        "id": "BNPkWrKVwEZw"
      }
    },
    {
      "cell_type": "markdown",
      "source": [
        "`QFileDialog.getSaveFileName` opens the file dialog to save the file.\n",
        "\n",
        "The parameters called are the following:\n",
        "*   *self.dlg* is the parent widget for the file dialog, which ensures that it stay on top of the plugin's main dialog\n",
        "*   *Select output file* is the title of the dialog\n",
        "*   *\"\"* is the empty string which is given as the initial directory for the file dialog. It allows to navigate any directory.\n",
        "*   *.joblib* restricts the selectable items to only .joblib ones.\n",
        "\n",
        "The method returns a tuple, which contains the selected *modelname* and *filter*. Since the latter is not used in the code, it is assigned to a variable *_filter* which is ignored in the code.\n",
        "\n",
        "*modelname* is then set as the text of *leModelName* in the plugin dialog - *self.dlg*, which is used to display the chosen path."
      ],
      "metadata": {
        "id": "kTouVMZSwf8k"
      }
    },
    {
      "cell_type": "code",
      "source": [
        "    def selectExistentModel(self):\n",
        "        modelname, _filter = QFileDialog.getOpenFileName(self.dlg, \"Open Image\",\"\", \"*.joblib\")\n",
        "        self.dlg.leModelNameEx.setText(modelname)"
      ],
      "metadata": {
        "id": "1Ezk5gObxq15"
      },
      "execution_count": null,
      "outputs": []
    },
    {
      "cell_type": "markdown",
      "source": [
        "The `selectExistentModel()` opens a file dialog, enables the user to select an existing model file and then updates the line_edit with the chosen file path."
      ],
      "metadata": {
        "id": "jxLKGKVwxjB8"
      }
    },
    {
      "cell_type": "markdown",
      "source": [
        "*QFileDialog.getOpenFileName* opens the file dialog to save the file.\n",
        "\n",
        "The parameters called are the following:\n",
        "*   *self.dlg* is the parent widget for the file dialog, which ensures that it stay on top of the plugin's main dialog\n",
        "*   *Open Image* is the title of the dialog\n",
        "*   *\"\"* is the empty string which is given as the initial directory for the file dialog. It allows to navigate any directory.\n",
        "*   *.joblib* restricts the selectable items to only .joblib ones.\n",
        "\n",
        "The method returns a tuple, which contains the selected *modelname* and *filter*. Since the latter is not used in the code, it is assigned to a variable *_filter* which is ignored in the code.\n",
        "\n",
        "*modelname* is then set as the text of *leModelNameEx* in the plugin dialog - *self.dlg*, which is used to display the chosen path."
      ],
      "metadata": {
        "id": "7WtAzffjycon"
      }
    },
    {
      "cell_type": "code",
      "source": [
        "def changeparameters(self):\n",
        "        if self.dlg.cSVM.isChecked():\n",
        "            self.dlg.leParameters.setText(\"l2;squared_hinge;False;0.0001;1.0;ovr;True;1;None;0;None;1000\")\n",
        "        elif self.dlg.cGaussianNB.isChecked():\n",
        "            self.dlg.leParameters.setText(\"None;1e-9\")\n",
        "        elif self.dlg.cNearestN.isChecked():\n",
        "            self.dlg.leParameters.setText(\"5;uniform;auto;30;2;minkowski;None;None\")\n",
        "        elif self.dlg.cNeuralNetwork.isChecked():\n",
        "            self.dlg.leParameters.setText(\"100;relu;adam;0.0001;auto;constant;0.001;0.5;200;True;None;0.0001;False;False;0.9;True;False;0.1;0.9;0.999;1e-08;10;15000\")\n",
        "        elif self.dlg.cLogReg.isChecked():\n",
        "            self.dlg.leParameters.setText(\"l2;False;0.0001;1.0;True;1;None;None;lbfgs;100;auto;0;False;None;None\")\n",
        "        elif self.dlg.cRandForest.isChecked():\n",
        "            self.dlg.leParameters.setText(\"100;gini;None;2;1;0.0;sqrt;None;0.0;True;False;None;None;0;False;None;0.0;None\")\n",
        "        elif self.dlg.cKmeans.isChecked():\n",
        "            self.dlg.leParameters.setText(\"8;k-means++;100;1024;0;True;None;0.0;10;None;auto;0.01\")"
      ],
      "metadata": {
        "id": "t2EAtRWMx_a8"
      },
      "execution_count": null,
      "outputs": []
    },
    {
      "cell_type": "markdown",
      "source": [
        "The `changeparameters()` function updates the value of a line_edit widget, based on the selected classifier option in the plugin's dialog.\n",
        "\n",
        "Basically, depending on which method is selected, its default parameter values are shown, through a series of `elif` statements.\n",
        "\n",
        "These default parameters can be found on the online documentation of scikit-learn."
      ],
      "metadata": {
        "id": "YOdX9zXTzaa9"
      }
    },
    {
      "cell_type": "code",
      "source": [
        "    def opendocumentationpage(self):\n",
        "        if self.dlg.cGaussianNB.isChecked():\n",
        "            url = \"https://scikit-learn.org/stable/modules/generated/sklearn.naive_bayes.GaussianNB.html#sklearn.naive_bayes.GaussianNB\"\n",
        "        elif self.dlg.cSVM.isChecked():\n",
        "            url =\"https://scikit-learn.org/stable/modules/generated/sklearn.svm.LinearSVC.html#sklearn.svm.LinearSVC\"\n",
        "        elif self.dlg.cLogReg.isChecked():\n",
        "            url =\"https://scikit-learn.org/stable/modules/generated/sklearn.linear_model.LogisticRegression.html#sklearn.linear_model.LogisticRegression\"\n",
        "        elif self.dlg.cNearestN.isChecked():\n",
        "            url =\"https://scikit-learn.org/stable/modules/generated/sklearn.neighbors.KNeighborsClassifier.html#sklearn.neighbors.KNeighborsClassifier\"\n",
        "        elif self.dlg.cRandForest.isChecked():\n",
        "            url =\"https://scikit-learn.org/stable/modules/generated/sklearn.ensemble.RandomForestClassifier.html#sklearn.ensemble.RandomForestClassifier\"\n",
        "        elif self.dlg.cNeuralNetwork.isChecked():\n",
        "            url =\"https://scikit-learn.org/stable/modules/generated/sklearn.neural_network.MLPClassifier.html#sklearn.neural_network.MLPClassifier\"\n",
        "        elif self.dlg.cKmeans.isChecked():\n",
        "            url = \"https://scikit-learn.org/stable/modules/generated/sklearn.cluster.KMeans.html\"\n",
        "        webbrowser.open(url, new=0, autoraise=True)"
      ],
      "metadata": {
        "id": "WxdI1i0e0PVb"
      },
      "execution_count": null,
      "outputs": []
    },
    {
      "cell_type": "markdown",
      "source": [
        "The `opendocumentationpage()` function enables the user to open the documentation page of the selected machine learning method.\n",
        "\n",
        "It checks if a method is clicked and sets its documentation page web address to the variable url, which is later opened with `webbrowser.open`.\n",
        "\n",
        "The argument `new=0` opens the new page in the existing browser window, and `autoraise=True` specifies that the URL should be brought to the front, if possible."
      ],
      "metadata": {
        "id": "ZVvrlxfG0QE7"
      }
    },
    {
      "cell_type": "code",
      "source": [
        "    def cleantraindata(self,arrX,arrY,trainnband,nval):\n",
        "        arrX = np.transpose(arrX.reshape(trainnband,-1))\n",
        "        arrY = arrY.reshape(-1,1)\n",
        "        if self.dlg.cTrainNullValue.isChecked():\n",
        "            t = np.hstack((arrX,arrY))\n",
        "            t = t[t[:,-1] != nval]\n",
        "            t = t.astype(int)\n",
        "            arrX,arrY = np.hsplit(t,[trainnband])\n",
        "        return arrX,arrY"
      ],
      "metadata": {
        "id": "8-NMjHDi5bbi"
      },
      "execution_count": null,
      "outputs": []
    },
    {
      "cell_type": "markdown",
      "source": [
        "The `cleantraindata` function cleans the training data, removing certain specific values.\n",
        "\n",
        "The method takes four arguments:\n",
        "*   `arrX`: training input features as numpy array\n",
        "*   `arrY`: training target values as numpy array\n",
        "*   `trainnband`: humber of bands/features in the training data\n",
        "*   `nval`: training target value, to be excluded from training data.\n",
        "\n",
        "What happens is the following:\n",
        "1.   `arrX` is reshaped, or flattened, preserving the number of bands as the first dimension.\n",
        "2.   `arrY` is reshaped to be a single column array\n",
        "3. `arrX` and `arrY` are stacked together horizontally, to create a new array `t`. `t` has input features and corresponding target values side by side.\n",
        "4. We filter out rows of `t` where the target is equal to `nval`.\n",
        "5. The new filtered array `t` is transformed into an `int` type.\n",
        "6. `t` is split back into `arrX` and `arrY`.\n",
        "7. The function returns the newly cleaned `arrX` and `arrY`.\n",
        "\n",
        "\n",
        "\n"
      ],
      "metadata": {
        "id": "NEzoNcrZyZSy"
      }
    },
    {
      "cell_type": "code",
      "source": [
        "def splitclass(self,test_input,nc,model,gx,gy,p,nodatax,nodatay,par):\n",
        "        # classification\n",
        "        if self.dlg.cSVM.isChecked():\n",
        "            rule_output = np.empty((0,len(model.classes_)), dtype = np.float32)\n",
        "        elif self.dlg.cKmeans.isChecked():\n",
        "            rule_output = np.empty((0,int(par)), dtype = np.float32)\n",
        "        else:\n",
        "            rule_output = np.empty((0,len(model.classes_)), dtype = np.uint16)\n",
        "        #nodata\n",
        "        if self.dlg.cbNullValues.isChecked():\n",
        "            nodataindex = np.where(np.all(test_input == nodatax, axis=1))\n",
        "        x = np.asarray(np.delete(np.linspace(0,test_input.shape[0],nc+1),[0,nc]),int)\n",
        "        test_output = np.empty(0,dtype=int)\n",
        "\n",
        "        #list of chuncks\n",
        "        y = np.split(test_input,x)\n",
        "        for i in range(nc):\n",
        "            chunkoutput = model.predict(y[i])\n",
        "            test_output = np.hstack((test_output,chunkoutput))\n",
        "            #rule image\n",
        "            if self.dlg.cbRuleImage.isChecked():\n",
        "                if self.dlg.cSVM.isChecked():\n",
        "                    rulechunk = model.decision_function(y[i]).astype(np.float32)\n",
        "                elif self.dlg.cKmeans.isChecked():\n",
        "                    rulechunk = model.transform(y[i]).astype(np.float32)\n",
        "                else:\n",
        "                    rulechunk = model.predict_proba(y[i])\n",
        "                    rulechunk = (rulechunk*10000).astype(np.uint16)\n",
        "                rule_output = np.vstack((rule_output,rulechunk))\n",
        "            # Update progress\n",
        "            p = p + (38/(gx*gy*nc))\n",
        "            self.dlg.progressBar.setValue(int(p))\n",
        "        test_output = np.ravel(test_output)\n",
        "        if self.dlg.cbNullValues.isChecked():\n",
        "            test_output[nodataindex] = nodatay\n",
        "        return test_output, rule_output, p"
      ],
      "metadata": {
        "id": "gjghSZw_297W"
      },
      "execution_count": null,
      "outputs": []
    },
    {
      "cell_type": "markdown",
      "source": [
        "The `splitclass()` function takes the input testing data and classifies it using the provided model (`model`). It splits the input into chunks - or tiles - and performs the classification by using the `model.predict()` method.\n",
        "\n",
        "The output is then appended to the `test_output` array.\n",
        "\n",
        "If the `cbRuleImage` option is checked, the functions also calculates for each tile the rule image. The output of this depends by the classification model used. For example, it uses `mode.decision_function()` and `model.transform()` for SVM and K-Means, while it uses `model.predict_proba()` for the other methods. The output is stored into `rule_output`.\n",
        "\n",
        "The progress then gets updated and this value is returned along with `test_output` and `rule_output` and the signal is pushed to the ProgressBar.\n"
      ],
      "metadata": {
        "id": "8-sav_xm2-Q1"
      }
    },
    {
      "cell_type": "code",
      "source": [
        "def supervisedclass(self, my_msg_bar):"
      ],
      "metadata": {
        "id": "l7uN_zaC8iCj"
      },
      "execution_count": null,
      "outputs": []
    },
    {
      "cell_type": "markdown",
      "source": [
        "Now we enter into the main function of this plugin, `supervisedclass()`.\n",
        "\n",
        "In this function all the previous functions are called and the real processing work happens."
      ],
      "metadata": {
        "id": "gEr2luKW7zCG"
      }
    },
    {
      "cell_type": "markdown",
      "source": [
        "First of all, we need to pass to `supervisedclass` the argument `my_msg_bar` in order to be able to see the different error or status messages that being pushed in the code, directly in the GUI mask."
      ],
      "metadata": {
        "id": "bswSQBpN8GZp"
      }
    },
    {
      "cell_type": "markdown",
      "source": [
        "The function then clears the log file, and sets the progressBar back to 0. This way, it is possible to start again from scratch with the new classification.\n",
        "\n",
        "Furthermore, the parameter `nclust` is put equal to 0 and will be used later for clustering."
      ],
      "metadata": {
        "id": "mHtbXXKw8ls9"
      }
    },
    {
      "cell_type": "code",
      "source": [
        "        self.dlg.ptLog.clear()\n",
        "        prog = 0\n",
        "        self.dlg.progressBar.setValue(prog)\n",
        "        nclust = 0"
      ],
      "metadata": {
        "id": "YDZxqjOM9Fr7"
      },
      "execution_count": null,
      "outputs": []
    },
    {
      "cell_type": "markdown",
      "source": [
        "We then set the starting time, which gets appended to the Log."
      ],
      "metadata": {
        "id": "j50UslX49Hyx"
      }
    },
    {
      "cell_type": "code",
      "source": [
        "        # Current time\n",
        "        string = \"Started at: \" + datetime.now().strftime(\"%H:%M:%S\")\n",
        "        self.dlg.ptLog.appendPlainText(string)\n",
        "        startTime = time.time()"
      ],
      "metadata": {
        "id": "v1BQunf19OU4"
      },
      "execution_count": null,
      "outputs": []
    },
    {
      "cell_type": "markdown",
      "source": [
        "We import the variables from the GUI, specifically the null value and the output file name."
      ],
      "metadata": {
        "id": "eTWrTgb_9N6C"
      }
    },
    {
      "cell_type": "code",
      "source": [
        "        # Import variables from GUI\n",
        "        nullval = self.dlg.sbNullValue.value() #null value of training image\n",
        "        filename = self.dlg.leClassName.text() #output name"
      ],
      "metadata": {
        "id": "jLkQAcio9hlo"
      },
      "execution_count": null,
      "outputs": []
    },
    {
      "cell_type": "markdown",
      "source": [
        "If the input image list is empty, or the output classification image name is empty, we push a critical error into the GUI."
      ],
      "metadata": {
        "id": "BXFO0N6T9j8M"
      }
    },
    {
      "cell_type": "code",
      "source": [
        "        if len(self.dlg.TestInputList.checkedItems()) == 0:\n",
        "            my_msg_bar.pushMessage(\"Error\", \"Missing input image bands.\", Qgis.Critical)\n",
        "            return\n",
        "        if len(filename) == 0:\n",
        "            my_msg_bar.pushMessage(\"Error\", \"Missing output classification image name.\", Qgis.Critical)\n",
        "            return"
      ],
      "metadata": {
        "id": "6CQ88o9t9ycI"
      },
      "execution_count": null,
      "outputs": []
    },
    {
      "cell_type": "markdown",
      "source": [
        "We get the number of rows and columns from the GUI (if they were selected), otherwise we keep them at value 1. We also check that the number chosen is positive, else we push a message error.\n",
        "\n",
        "The same thing is done for the classification tiles (chunks).\n",
        "\n",
        "At the end of this, the progress bar is updated."
      ],
      "metadata": {
        "id": "QeCMU9BQ9zIB"
      }
    },
    {
      "cell_type": "code",
      "source": [
        "        # nColumns e nRows variables\n",
        "        if self.dlg.cImageGrid.isChecked():\n",
        "            gridX = self.dlg.sbGridX.value()\n",
        "            gridY = self.dlg.sbGridY.value()\n",
        "        else:\n",
        "            gridX = 1\n",
        "            gridY = 1\n",
        "        if gridX <= 0 or gridY <=0:\n",
        "            my_msg_bar.pushMessage(\"Error\", \"The number of rows and columns must be larger than or equal to 1.\", Qgis.Critical)\n",
        "            return\n",
        "\n",
        "        # Chunks variables\n",
        "        if self.dlg.cClassChunks.isChecked():\n",
        "            nchunks = self.dlg.sbChunks.value()\n",
        "        else:\n",
        "            nchunks = 1\n",
        "        if nchunks <=0:\n",
        "            my_msg_bar.pushMessage(\"Error\", \"The number of tiles must be larger than or equal to 1.\", Qgis.Critical)\n",
        "            return\n",
        "        self.dlg.progressBar.setValue(3)"
      ],
      "metadata": {
        "id": "-kYHUvT0-Rh-"
      },
      "execution_count": null,
      "outputs": []
    },
    {
      "cell_type": "markdown",
      "source": [
        "This segment deals with opening the image bands selected in the GUI, in the `TestInputList` part.\n",
        "\n",
        "It iterates over these and performs the following operations:\n",
        "1.   retrieves the layer by name, and maps it in the QGIS project\n",
        "2.   uses `gdal.Open()` to open the layer and appends it to the `openLayers` list.\n",
        "3.   checks if it is the first band that is being processed. If so, it creates a new copy of it and assigns it to `dataset`, while also retrieving the size of the raster.\n",
        "4. updates the progress value for the progressBar\n",
        "5. updates the Log\n",
        "\n",
        "Some additional comments are added in the code below.\n",
        "\n"
      ],
      "metadata": {
        "id": "i9-FVmYY-ULt"
      }
    },
    {
      "cell_type": "code",
      "source": [
        "        # Open image bands\n",
        "\n",
        "        #creates a list to store the opened image bands\n",
        "        openLayers = []\n",
        "        #flag that indicates the first band\n",
        "        firstband = True\n",
        "\n",
        "        #iterates over the checked items from the list\n",
        "        for testband in self.dlg.TestInputList.checkedItems():\n",
        "\n",
        "            #gets the layer by name\n",
        "            layer = QgsProject.instance().mapLayersByName(testband)\n",
        "            layer = layer[0].dataProvider().dataSourceUri()\n",
        "\n",
        "            #uses gdal to open the layer and adds it to openLayers\n",
        "            openLayers.append(gdal.Open(layer,0))\n",
        "\n",
        "            if firstband == True:\n",
        "\n",
        "                #creates a new copy of the first band\n",
        "                driver = gdal.GetDriverByName('GTiff')\n",
        "                dataset = driver.CreateCopy(filename,openLayers[0])\n",
        "\n",
        "                trans = openLayers[0].GetGeoTransform()\n",
        "                proj = openLayers[0].GetProjection()\n",
        "\n",
        "                #gets the sixe of the first band's raster\n",
        "                xSize = openLayers[0].RasterXSize\n",
        "                ySize = openLayers[0].RasterYSize\n",
        "\n",
        "                #sets the flag to false\n",
        "                firstband = False\n",
        "\n",
        "\n",
        "            prog = prog + (10/(len(self.dlg.TestInputList.checkedItems())))\n",
        "            self.dlg.progressBar.setValue(int(prog))\n",
        "\n",
        "        string = 'Input image band: ' + str(self.dlg.TestInputList.checkedItems())\n",
        "        self.dlg.ptLog.appendPlainText(string)\n"
      ],
      "metadata": {
        "id": "zUxtXztd_a6K"
      },
      "execution_count": null,
      "outputs": []
    },
    {
      "cell_type": "markdown",
      "source": [
        "Here we define some variables related to no-data values/tile size\n",
        "\n",
        "1.   `nodataval` - creates an array of no-data values with the same length as the number of image bands being processed\n",
        "2.   `nodataclass` - stores the value of the no-data class\n",
        "3. `xStep` and `yStep` - represent the height/width, calculated using the raster size by # of tiles.\n",
        "4. `xRes` and `yRes` - the residual height/width after the division into tiles. They are those that don't perfectly fit into the division.\n",
        "\n"
      ],
      "metadata": {
        "id": "L02RCmlLBv3w"
      }
    },
    {
      "cell_type": "code",
      "source": [
        "        # No data values\n",
        "        nodataval = np.repeat(self.dlg.sbNoDataValue.value(), len(openLayers))  # Array of no data values for each band\n",
        "        nodataclass = self.dlg.sbNoDataClass.value()  # No data class value\n",
        "\n",
        "        xStep = int(xSize / gridX)  # Width of each chunk\n",
        "        yStep = int(ySize / gridY)  # Height of each chunk\n",
        "        xRes = xSize - xStep * gridX  # Residual width after dividing the raster into chunks\n",
        "        yRes = ySize - yStep * gridY  # Residual height after dividing the raster into chunks"
      ],
      "metadata": {
        "id": "xdGCw-b2BwV0"
      },
      "execution_count": null,
      "outputs": []
    },
    {
      "cell_type": "markdown",
      "source": [
        "This part handles the case if which an existing classification model is chosen.\n",
        "\n",
        "It checks if the checkbox was clicked, then retrives the model entered. It then checks if the model name is empty and, if so, pushes an error message.\n",
        "\n",
        "Afterwards it loads the model using the `load` function and is assigned to the variable `mod`.\n",
        "\n",
        "It checks whether the number of image bands corresponds to the number of features expected. If not, it pushes an error message. If they do, the code displays in the log a success message.\n"
      ],
      "metadata": {
        "id": "nOrnP9cbEGE6"
      }
    },
    {
      "cell_type": "code",
      "source": [
        "        # Use an existing model\n",
        "        if self.dlg.cbUseModel.isChecked():\n",
        "            modelname = self.dlg.leModelNameEx.text()\n",
        "            if len(modelname) == 0:\n",
        "                my_msg_bar.pushMessage(\"Error\", \"Missing classification model name\", Qgis.Critical)\n",
        "                return\n",
        "            # Load model and check\n",
        "            mod = load(modelname)\n",
        "            if len(self.dlg.TestInputList.checkedItems()) != mod.n_features_in_:\n",
        "                message = \"The loaded model expects {} features, but the image to be classified has{}\".format(mod.n_features_in_, len(self.dlg.TestInputList.checkedItems()))\n",
        "                my_msg_bar.pushMessage(\"Error\", \"message\", Qgis.Critical)\n",
        "                return\n",
        "            else:\n",
        "                string = \"Model successfully loaded: \" + modelname\n",
        "                self.dlg.ptLog.appendPlainText(string)"
      ],
      "metadata": {
        "id": "mdSnstPpFwJN"
      },
      "execution_count": null,
      "outputs": []
    },
    {
      "cell_type": "markdown",
      "source": [
        "The following code, however, is executed only when the user chooses to create a model from the uploaded training dataset.\n",
        "\n",
        "It records the starting time of the training process, initializes `algorithm` to `None`, retrieves the user entered parameters (or the automatically preset ones) and creates an empty array (`trainx`) to store the training input data in.\n",
        "`trainy` is the array where the training output data is stored. It has shape (0,1) to store the class labels.\n",
        "\n"
      ],
      "metadata": {
        "id": "o1rk02OKHEYY"
      }
    },
    {
      "cell_type": "code",
      "source": [
        "        # Create Model from training dataset\n",
        "        else:\n",
        "            startTimeTrain = time.time()\n",
        "            algorithm = None\n",
        "            # Parameters list\n",
        "            parameters = self.dlg.leParameters.text().split(';')\n",
        "            # Create empty arrays for training\n",
        "            trainx = np.empty((0, len(openLayers)), dtype=int)\n",
        "            trainy = np.empty((0, 1), dtype=int)"
      ],
      "metadata": {
        "id": "EIBh5BdPG-Eg"
      },
      "execution_count": null,
      "outputs": []
    },
    {
      "cell_type": "markdown",
      "source": [
        "The following code takes into account the latest addition of an unsupervised method to the plugin (previously built to only contain supervised methods).\n",
        "\n",
        "After checking that KMeans is indeed clicked, it assigns the name to the variable algname.\n",
        "\n",
        "It sets the algorithm name as \"K-Means\"and processes the parameters for the K-means algorithm, converting them to the appropriate data types.\n",
        "It creates a K-means algorithm object with the specified parameters and then prepares the training data by reading the arrays from openLayers.\n",
        "\n",
        "Afterwards, it loops over all the image bands, appending the corresponding tile to `testBandsChunk`. The data gets stacked into `testChunkX` and then reshaped, to match the expected format. The tile is eventually passed to `algorithm.partial_fit()` which updates the model with the current tile. The progressBar gets updated accordingly.\n",
        "\n",
        "After the training is done, we calculate the training time, which get shown into the Log, together with other information about the algorithm/parameters.\n"
      ],
      "metadata": {
        "id": "JSt2AdFkJhpm"
      }
    },
    {
      "cell_type": "code",
      "source": [
        "#training for K-means\n",
        "            if self.dlg.cKmeans.isChecked():\n",
        "                algname = 'K-Means'\n",
        "                #parameters\n",
        "                if parameters[2] != 'auto' and parameters[2] != 'warn' :\n",
        "                    parameters[2] = int(parameters[2])\n",
        "                if parameters[6] == 'None':\n",
        "                    parameters[6] = None\n",
        "                else:\n",
        "                    parameters[6] = int(parameters[6])\n",
        "                algorithm = KMeans(n_clusters=int(parameters[0]), init=parameters[1], n_init=parameters[2], max_iter=int(parameters[3]), tol=float(parameters[4]), verbose=int(parameters[5]), random_state=parameters[6], copy_x=eval(parameters[7]), algorithm=parameters[8])\n",
        "                nclust = int(parameters[0])\n",
        "                # fitting the model\n",
        "                testBandsChunk = []\n",
        "                for k in range(len(openLayers)):\n",
        "                    testBandsChunk.append(openLayers[k].ReadAsArray())\n",
        "                testChunkX = np.stack(testBandsChunk)\n",
        "                testChunkX = np.transpose(testChunkX.reshape(testChunkX.shape[0],-1))\n",
        "                mod = algorithm.fit(testChunkX)\n",
        "                # calculate training time\n",
        "                trainTime= time.time()-startTimeTrain\n",
        "                string = \"Training completed in: \" + str(int(trainTime/60)) + \":\" + str(int(trainTime%60)) + \" minutes\"\n",
        "                self.dlg.ptLog.appendPlainText(string)\n",
        "                string = 'Algorithm: '+ algname + ', parameters: '+ str(self.dlg.leParameters.text())\n",
        "                self.dlg.ptLog.appendPlainText(string)\n",
        "                prog = 50\n",
        "                self.dlg.progressBar.setValue(prog)"
      ],
      "metadata": {
        "id": "1Zu-KjB9K9BI"
      },
      "execution_count": null,
      "outputs": []
    },
    {
      "cell_type": "markdown",
      "source": [
        "This code handles the case where the user chooses to create a model from the training dataset.\n",
        "\n",
        "At first, it checks if the training output is selected. If it is not, an error message is displayed, and the execution terminated. If it is selected, it proceeds to open the training output layer using `gdal.Open()`.\n",
        "\n",
        "Secondly, it populates the training arrays by iterating over each tiles, and storing the data of the current chunk into testBandsChunk. The code then determines the window size based on the current tile position, iterates over the image bands and appends the corresponding tile to testBandsChunk.\n",
        "\n",
        "The data from the input image and the output layers is read as an array with `ReadAnArray()`.\n",
        "\n",
        "We then call `cleantraindata()` to remove null values, and then we append the data tile to `trainx` and `trainy.\n",
        "\n",
        "Finally, we create the algorithm using the name and parameters indicated in the GUI. This is only shown for the Gaussian Naive-Bayes method, but it is pretty much the same for all the remaining, which are thusly not shown.\n",
        "\n",
        "In this case:\n",
        "- it checks if the algorithm is selected by the use (`algorithm.isChecked()`)\n",
        "- if so, it sets the algname to the algorithm name\n",
        "- it check the parameters value for priors, and if there are any None, it converts them into `None`.\n",
        "- at last, an instance of the algorithm is created with the algorithm name and specified parameters."
      ],
      "metadata": {
        "id": "yKDLVgmWLe5r"
      }
    },
    {
      "cell_type": "code",
      "source": [
        "else:\n",
        "    # Check if training output is selected by the user\n",
        "    if self.dlg.TrainOutput.currentLayer() is None:\n",
        "        my_msg_bar.pushMessage(\"Error\", \"Missing output classification image.\", Qgis.Critical)\n",
        "        return\n",
        "    # Open training output\n",
        "    layer = self.dlg.TrainOutput.currentLayer().dataProvider().dataSourceUri()\n",
        "    opentrainy = gdal.Open(layer)\n",
        "    string = 'Input training data: ' + str(self.dlg.TrainOutput.currentLayer())\n",
        "    self.dlg.ptLog.appendPlainText(string)\n",
        "\n",
        "    # Populate training arrays removing null values\n",
        "    for j in range(gridY):\n",
        "        for i in range(gridX):\n",
        "            testBandsChunk = []\n",
        "            if i == (gridX - 1) and j == (gridY - 1):\n",
        "                winX = xRes + xStep\n",
        "                winY = yRes + yStep\n",
        "            elif j == (gridY - 1):\n",
        "                winX = xStep\n",
        "                winY = yRes + yStep\n",
        "            elif i == (gridX - 1):\n",
        "                winX = xRes + xStep\n",
        "                winY = yStep\n",
        "            else:\n",
        "                winX = xStep\n",
        "                winY = yStep\n",
        "            for k in range(len(openLayers)):\n",
        "                testBandsChunk.append(openLayers[k].ReadAsArray(xStep * i, yStep * j, winX, winY))\n",
        "            testChunkX = np.stack(testBandsChunk)\n",
        "            testChunkY = opentrainy.ReadAsArray(xStep * i, yStep * j, winX, winY)\n",
        "            testChunkX, testChunkY = self.cleantraindata(testChunkX, testChunkY, testChunkX.shape[0], nullval)\n",
        "            trainx = np.vstack((trainx, testChunkX))\n",
        "            trainy = np.vstack((trainy, testChunkY))\n",
        "            prog = prog + (20 / (gridX * gridY))\n",
        "            self.dlg.progressBar.setValue(int(prog))\n",
        "\n",
        "    # Create an algorithm with the parameters\n",
        "    # Gaussian Naive-Bayes\n",
        "    if self.dlg.cGaussianNB.isChecked():\n",
        "        algname = 'Gaussian Naive-Bayes'\n",
        "        if parameters[0] == 'None':\n",
        "            parameters[0] = None\n",
        "        algorithm = GaussianNB(priors=parameters[0], var_smoothing=float(parameters[1]))\n"
      ],
      "metadata": {
        "id": "TE3qUfraN_aQ"
      },
      "execution_count": null,
      "outputs": []
    },
    {
      "cell_type": "markdown",
      "source": [
        "This code segment performs the training process of the model.\n",
        "\n",
        "It firstly prepares the training data, flattening it with `np.ravel()`.\n",
        "\n",
        "Secondly, it fits the model by passing it `trainx` and `trainy` as input training data. The trained model is stored in `mod`.\n",
        "\n",
        "Afterwards, we log the time that it has taken and we update the progressBar as well."
      ],
      "metadata": {
        "id": "2O-wDiG3N-95"
      }
    },
    {
      "cell_type": "code",
      "source": [
        "# Fit the model\n",
        "trainy = np.ravel(trainy)\n",
        "mod = algorithm.fit(trainx, trainy)\n",
        "\n",
        "# Training time\n",
        "trainTime = time.time() - startTimeTrain\n",
        "string = \"Training completed in: \" + str(int(trainTime / 60)) + \":\" + str(int(trainTime % 60)) + \" minutes\"\n",
        "self.dlg.ptLog.appendPlainText(string)\n",
        "string = 'Algorithm: ' + algname + ', parameters: ' + str(self.dlg.leParameters.text())\n",
        "self.dlg.ptLog.appendPlainText(string)\n",
        "\n",
        "prog = 50\n",
        "self.dlg.progressBar.setValue(prog)\n"
      ],
      "metadata": {
        "id": "z2iETADAQwFz"
      },
      "execution_count": null,
      "outputs": []
    },
    {
      "cell_type": "markdown",
      "source": [
        "This following segment checks the accuracy of the trained model and then performs the classification.\n",
        "\n",
        "It firstly checks if in the GUI the accuracy option was selected, and if so it proceeds to calculate it.\n",
        "\n",
        "Then we use the `train_test_split()` function to split the input data into training and testing subset, choosing the test_size and a random_state, which ensures the reproducibility of the split. We then assign the subsets to the X and y training and testing variables.\n",
        "\n",
        "To calculate the model accuracy, we first fit the algorithm, predicting the class labels for the test subset. We compute the number of mislabeled points against the true labels using `(np.transpose(y_test) != y_pred).sum()`.\n",
        "We then compute the percentage of accuracy. We also add a log entry with the # of mislabeled points and the percentage of accuracy.\n",
        "\n",
        "Finally, we update the progressBar and delete the data from memoryn with `del`."
      ],
      "metadata": {
        "id": "1AFlSBMjQxA1"
      }
    },
    {
      "cell_type": "code",
      "source": [
        "# Check accuracy of the model and classify\n",
        "if self.dlg.cAccuracy.isChecked():\n",
        "    X_train, X_test, y_train, y_test = train_test_split(trainx, trainy, test_size=0.3, random_state=0)\n",
        "    y_pred = algorithm.fit(X_train, y_train).predict(X_test)\n",
        "    string = \"Number of mislabeled points out of a total \" + str(X_test.shape[0]) + \" points: \" + str((np.transpose(y_test) != y_pred).sum())\n",
        "    self.dlg.ptLog.appendPlainText(string)\n",
        "    string = \"Model accuracy: \" + (\"{:.2f}\".format((((X_test.shape[0] - ((np.transpose(y_test) != y_pred).sum())) / X_test.shape[0]) * 100))) + \" %\"\n",
        "    self.dlg.ptLog.appendPlainText(string)\n",
        "    prog = 57\n",
        "    self.dlg.progressBar.setValue(prog)\n",
        "    del(X_train, X_test, y_train, y_test, y_pred)\n"
      ],
      "metadata": {
        "id": "J-fpLxateyNj"
      },
      "execution_count": null,
      "outputs": []
    },
    {
      "cell_type": "markdown",
      "source": [
        "This following part deals with saving the model in .joblib format.\n",
        "\n",
        "It checks if cKmeans hasn't been selected, and then check is cSaveModel has. If both are met, it retrieves the model name (if there's no model name, it pushes an error). Else, the `dump()` function is used to save the model in .joblib format. A log entry shows that the model was correctly saved.\n",
        "\n",
        "The memory is then freed and the progress updated."
      ],
      "metadata": {
        "id": "2_qoKcVcey9x"
      }
    },
    {
      "cell_type": "code",
      "source": [
        "# Save model in .joblib format\n",
        "if self.dlg.cKmeans.isChecked() != True:\n",
        "    if self.dlg.cSaveModel.isChecked():\n",
        "        modelname = self.dlg.leModelName.text()\n",
        "        if modelname is None:\n",
        "            my_msg_bar.pushMessage(\"Error\", \"Missing classification model name.\", Qgis.Critical)\n",
        "            return\n",
        "        else:\n",
        "            dump(mod, modelname)\n",
        "            string = \"Model saved successfully in: \" + modelname\n",
        "            self.dlg.ptLog.appendPlainText(string)\n",
        "\n",
        "# Delete training arrays\n",
        "del(trainx, trainy)\n",
        "\n",
        "prog = 60\n",
        "self.dlg.progressBar.setValue(prog)\n"
      ],
      "metadata": {
        "id": "RwDnSdAAezgV"
      },
      "execution_count": null,
      "outputs": []
    },
    {
      "cell_type": "markdown",
      "source": [
        "This part deals with the creation of the rule image .tif file.\n",
        "\n",
        "First of all, it checks if the relevant option was selected. If so, it then checks the classification algorithm selected to determine the data type & # of bands.\n",
        "\n",
        "If SVM is selected, the rule image data type is set to `gdal.GDT_Float32`. In all other cases it is set to `gdal.GDT_UInt16`.\n",
        "\n",
        "While generating the rule image name and dataset, the filename is split based on the '.' character, in order for the file name to be extracted without the extension. We add as a suffix \"_rule_image.tif\". With driver.Create() function creates the new tif file with the specified inputs."
      ],
      "metadata": {
        "id": "yuLlx8Ytf9uJ"
      }
    },
    {
      "cell_type": "code",
      "source": [
        "# Create .tif file for rule image\n",
        "if self.dlg.cbRuleImage.isChecked():\n",
        "    if self.dlg.cSVM.isChecked():\n",
        "        ruletype = gdal.GDT_Float32\n",
        "        nbands = len(mod.classes_)\n",
        "    elif self.dlg.cKmeans.isChecked():\n",
        "        ruletype=gdal.GDT_Float32\n",
        "        nbands = int(parameters[0])\n",
        "    else:\n",
        "        ruletype = gdal.GDT_UInt16\n",
        "        nbands = len(mod.classes_)\n",
        "        rulename=filename.split('.')\n",
        "        rulename=rulename[0]+\"_rule_image.tif\"\n",
        "        ruledataset=driver.Create(rulename, xsize=xSize, ysize=ySize, bands=nbands, eType=ruletype)\n",
        "        ruledataset.SetGeoTransform(trans)\n",
        "        ruledataset.SetProjection(proj)"
      ],
      "metadata": {
        "id": "WxGJ5hE-mi5f"
      },
      "execution_count": null,
      "outputs": []
    },
    {
      "cell_type": "markdown",
      "source": [
        "The code segment handles the classification process and performs the following steps:\n",
        "\n",
        "1. Two loops iterate over the grid of image chunks defined by gridX and gridY.\n",
        "For each chunk, the code determines the window size (winX and winY) based on its position in the grid.\n",
        "\n",
        "2. The code initializes an empty list testBandsChunk to store the image bands for the current chunk.\n",
        "Another nested loop iterates over the available image bands (openLayers).\n",
        "The corresponding bands for the current chunk are extracted using the ReadAsArray() method and appended to testBandsChunk.\n",
        "The resulting bands are stacked together along the first axis to create the testChunkX array.\n",
        "The array is reshaped by transposing it and flattening it to have the shape (num_samples, num_features).\n",
        "\n",
        "3. The chunk is classified using the mod model obtained from training or loaded.\n",
        "The splitclass() method is called to classify the chunk, generate the rule image chunk (ruleChunk), and update the progress (prog) value.\n",
        "The total count of imported chunks (totImportedChunks) is incremented.\n",
        "The classified labels (testChunkY) are reshaped to have the shape (winY, winX).\n",
        "\n",
        "4. The classified chunk (testChunkY) is written to the output raster file (dataset) at the corresponding position (xStep*i, yStep*j) using WriteArray().\n",
        "If the rule image chunk (ruleChunk) is not empty, it is reshaped to have the shape (winY, winX, num_classes).\n",
        "The rule image bands are iterated over (l) and each band is written to the rule image dataset (ruledataset) at the corresponding position (xStep*i, yStep*j) using WriteArray().\n",
        "\n",
        "5. The progress value is updated to 98%.\n",
        "The classification time is calculated by subtracting the start time (startTimeClass) from the current time.\n",
        "A log entry is added with information about the classification time, the number of image pieces, the number of chunks per piece, and the total time taken for classification.\n",
        "Another log entry indicates the path where the classified image is saved (filename).\n",
        "\n",
        "In summary, this code segment iterates over image chunks, reads the test data for each chunk, classifies the chunk using the model, writes the classified and rule image chunks to respective datasets, and updates the progress and logs the classification time and output file path."
      ],
      "metadata": {
        "id": "7LljNxLSmjuv"
      }
    },
    {
      "cell_type": "code",
      "source": [
        "# Classification\n",
        "        startTimeClass = time.time()\n",
        "        for j in range(gridY):\n",
        "            for i in range(gridX):\n",
        "                testBandsChunk = []\n",
        "                if i==(gridX-1) and j==(gridY-1):\n",
        "                    winX = xRes+xStep\n",
        "                    winY = yRes+yStep\n",
        "                elif j==(gridY-1):\n",
        "                    winX = xStep\n",
        "                    winY = yRes+yStep\n",
        "                elif i==(gridX-1):\n",
        "                    winX = xRes+xStep\n",
        "                    winY = yStep\n",
        "                else:\n",
        "                    winX = xStep\n",
        "                    winY = yStep\n",
        "                for k in range(len(openLayers)):\n",
        "                    testBandsChunk.append(openLayers[k].ReadAsArray(xStep*i,yStep*j,winX,winY))\n",
        "                testChunkX = np.stack(testBandsChunk)\n",
        "                testChunkX = np.transpose(testChunkX.reshape(testChunkX.shape[0],-1))\n",
        "                # Classify chunk\n",
        "                testChunkY, ruleChunk, prog = self.splitclass(testChunkX,nchunks,mod,totImportedChunks,gridX,gridY,prog,nodataval,nodataclass,parameters[0])\n",
        "                testChunkY = testChunkY.reshape((winY,winX))\n",
        "                # Write classified chunk\n",
        "                dataset.GetRasterBand(1).WriteArray(testChunkY,xStep*i,yStep*j)\n",
        "                # Write rule image chunk\n",
        "                if ruleChunk.shape[0] != 0:\n",
        "                    ruleChunk = ruleChunk.reshape((winY,winX,ruleChunk.shape[1]))\n",
        "                    for l in range(ruleChunk.shape[2]):\n",
        "                        ruledataset.GetRasterBand(l+1).WriteArray(ruleChunk[:,:,l],xStep*i,yStep*j)\n",
        "\n",
        "\n",
        "        prog = 98\n",
        "        self.dlg.progressBar.setValue(prog)\n",
        "        # Calculate classification time\n",
        "        string = \"Classified Image saved in: \" + filename\n",
        "        self.dlg.ptLog.appendPlainText(string)\n",
        "        classTime = time.time() - startTimeClass\n",
        "        string = \"Image classified in: \" + str(int(classTime/60)) + \":\" + str(int(classTime%60)) + \" minutes, loading the image in \" + str(gridX*gridY) + \" pieces, and classifying every piece divided in \"+ str(nchunks) + \" chunks\"\n",
        "        self.dlg.ptLog.appendPlainText(string)"
      ],
      "metadata": {
        "id": "uGBKfwcymkSZ"
      },
      "execution_count": null,
      "outputs": []
    },
    {
      "cell_type": "markdown",
      "source": [
        "This part save the Log messages into a text file.\n",
        "\n",
        "At first it checks if the option is selected, then it splits the name considering the '.' character and adds _log.txt at the end of it. It then open the file, writes the Log on it and closes it."
      ],
      "metadata": {
        "id": "Uf2qacwnmlQE"
      }
    },
    {
      "cell_type": "code",
      "source": [
        "# Save Log in txt file\n",
        "        if self.dlg.cbSaveLog.isChecked():\n",
        "            logname=filename.split('.')\n",
        "            logname =logname[0]+\"_log.txt\"\n",
        "            logfile = open(logname, \"w\")\n",
        "            logfile.write(self.dlg.ptLog.toPlainText())\n",
        "            logfile.close()"
      ],
      "metadata": {
        "colab": {
          "base_uri": "https://localhost:8080/",
          "height": 131
        },
        "id": "rzDxDIBrmlpR",
        "outputId": "15e7c6e8-5c89-463a-87b9-10815f16799b"
      },
      "execution_count": null,
      "outputs": [
        {
          "output_type": "error",
          "ename": "IndentationError",
          "evalue": "ignored",
          "traceback": [
            "\u001b[0;36m  File \u001b[0;32m\"<ipython-input-1-00a7807416a9>\"\u001b[0;36m, line \u001b[0;32m2\u001b[0m\n\u001b[0;31m    if self.dlg.cbSaveLog.isChecked():\u001b[0m\n\u001b[0m    ^\u001b[0m\n\u001b[0;31mIndentationError\u001b[0m\u001b[0;31m:\u001b[0m unexpected indent\n"
          ]
        }
      ]
    },
    {
      "cell_type": "markdown",
      "source": [
        "This part clears all the variables at the end of the execution, removing the layers that have been opened, the dataset in input. If the rule image was computed, it save in the log the name of the path. It then flushes it."
      ],
      "metadata": {
        "id": "FCOXCYcimoIp"
      }
    },
    {
      "cell_type": "code",
      "source": [
        "# Clear variables\n",
        "        del(testChunkX, testChunkY)\n",
        "        openLayers = None\n",
        "        dataset.FlushCache()\n",
        "        dataset = None\n",
        "        if self.dlg.cbRuleImage.isChecked():\n",
        "            string = \"Rule image saved in: \" + rulename\n",
        "            self.dlg.ptLog.appendPlainText(string)\n",
        "            ruledataset.FlushCache()\n",
        "            ruledataset = None"
      ],
      "metadata": {
        "id": "wOSDewotmot-"
      },
      "execution_count": null,
      "outputs": []
    },
    {
      "cell_type": "markdown",
      "source": [
        "This part adds the new output layer to the already present ones in QGIS, using the addRasterLayer function.\n",
        "\n",
        "It then sets the progressBar value to 100, signaling that the whole procedure is now completed."
      ],
      "metadata": {
        "id": "Qpdd8MqVmq97"
      }
    },
    {
      "cell_type": "code",
      "source": [
        "        # Add output layer in the current QGIS Project\n",
        "        layerName = filename.split('/')\n",
        "        layerName = layerName[-1].split('.')\n",
        "        self.iface.addRasterLayer(filename,layerName[0])\n",
        "        if self.dlg.cbRuleImage.isChecked():\n",
        "            layerName = rulename.split('/')\n",
        "            layerName = layerName[-1].split('.')\n",
        "            self.iface.addRasterLayer(rulename,layerName[0])\n",
        "\n",
        "        string = \"Finish at: \" + datetime.now().strftime(\"%H:%M:%S\")\n",
        "        self.dlg.ptLog.appendPlainText(string)\n",
        "        totTime = time.time() - startTime\n",
        "        string = \"Processing Time: \" +str(int(totTime/60)) + \":\" + str(int(totTime%60)) + \" minutes\"\n",
        "        self.dlg.ptLog.appendPlainText(string)\n",
        "        self.dlg.progressBar.setValue(100)"
      ],
      "metadata": {
        "colab": {
          "base_uri": "https://localhost:8080/",
          "height": 236
        },
        "id": "NFUiboSBmrbB",
        "outputId": "cce5b3e2-97fc-4163-858f-249f33203095"
      },
      "execution_count": null,
      "outputs": [
        {
          "output_type": "error",
          "ename": "NameError",
          "evalue": "ignored",
          "traceback": [
            "\u001b[0;31m---------------------------------------------------------------------------\u001b[0m",
            "\u001b[0;31mNameError\u001b[0m                                 Traceback (most recent call last)",
            "\u001b[0;32m<ipython-input-2-e472098efd33>\u001b[0m in \u001b[0;36m<cell line: 2>\u001b[0;34m()\u001b[0m\n\u001b[1;32m      1\u001b[0m \u001b[0;31m# Add output layer in the current QGIS Project\u001b[0m\u001b[0;34m\u001b[0m\u001b[0;34m\u001b[0m\u001b[0m\n\u001b[0;32m----> 2\u001b[0;31m \u001b[0mlayerName\u001b[0m \u001b[0;34m=\u001b[0m \u001b[0mfilename\u001b[0m\u001b[0;34m.\u001b[0m\u001b[0msplit\u001b[0m\u001b[0;34m(\u001b[0m\u001b[0;34m'/'\u001b[0m\u001b[0;34m)\u001b[0m\u001b[0;34m\u001b[0m\u001b[0;34m\u001b[0m\u001b[0m\n\u001b[0m\u001b[1;32m      3\u001b[0m \u001b[0mlayerName\u001b[0m \u001b[0;34m=\u001b[0m \u001b[0mlayerName\u001b[0m\u001b[0;34m[\u001b[0m\u001b[0;34m-\u001b[0m\u001b[0;36m1\u001b[0m\u001b[0;34m]\u001b[0m\u001b[0;34m.\u001b[0m\u001b[0msplit\u001b[0m\u001b[0;34m(\u001b[0m\u001b[0;34m'.'\u001b[0m\u001b[0;34m)\u001b[0m\u001b[0;34m\u001b[0m\u001b[0;34m\u001b[0m\u001b[0m\n\u001b[1;32m      4\u001b[0m \u001b[0mself\u001b[0m\u001b[0;34m.\u001b[0m\u001b[0miface\u001b[0m\u001b[0;34m.\u001b[0m\u001b[0maddRasterLayer\u001b[0m\u001b[0;34m(\u001b[0m\u001b[0mfilename\u001b[0m\u001b[0;34m,\u001b[0m\u001b[0mlayerName\u001b[0m\u001b[0;34m[\u001b[0m\u001b[0;36m0\u001b[0m\u001b[0;34m]\u001b[0m\u001b[0;34m)\u001b[0m\u001b[0;34m\u001b[0m\u001b[0;34m\u001b[0m\u001b[0m\n\u001b[1;32m      5\u001b[0m \u001b[0mself\u001b[0m\u001b[0;34m.\u001b[0m\u001b[0mdlg\u001b[0m\u001b[0;34m.\u001b[0m\u001b[0mprogressBar\u001b[0m\u001b[0;34m.\u001b[0m\u001b[0msetValue\u001b[0m\u001b[0;34m(\u001b[0m\u001b[0;36m100\u001b[0m\u001b[0;34m)\u001b[0m\u001b[0;34m\u001b[0m\u001b[0;34m\u001b[0m\u001b[0m\n",
            "\u001b[0;31mNameError\u001b[0m: name 'filename' is not defined"
          ]
        }
      ]
    },
    {
      "cell_type": "markdown",
      "source": [
        "In the `resetUI()` function, the different widgets and checkboxes in the GUI are reset, after the completion of the procedure. It also repopulates the selection widgets."
      ],
      "metadata": {
        "id": "Qi0ekEIkmtz-"
      }
    },
    {
      "cell_type": "code",
      "source": [
        "    def resetUI(self):\n",
        "        self.dlg.TestInputList.clear()\n",
        "        self.dlg.leClassName.clear()\n",
        "        self.dlg.leModelName.clear()\n",
        "        self.dlg.leModelNameEx.clear()\n",
        "        self.dlg.cbUseModel.setChecked(False)\n",
        "        self.dlg.cImageGrid.setChecked(False)\n",
        "        self.dlg.cClassChunks.setChecked(False)\n",
        "        self.dlg.cbCustomParameters.setChecked(False)\n",
        "        self.dlg.cAccuracy.setChecked(False)\n",
        "        self.dlg.cSaveModel.setChecked(False)\n",
        "        self.dlg.cbSaveLog.setChecked(True)\n",
        "        self.dlg.cbRuleImage.setChecked(False)\n",
        "        self.dlg.cGaussianNB.setChecked(True)\n",
        "        self.dlg.sbGridX.setValue(1)\n",
        "        self.dlg.sbGridY.setValue(1)\n",
        "        self.dlg.sbChunks.setValue(1)\n",
        "        self.dlg.sbNullValue.setValue(-1)\n",
        "        self.dlg.sbNoDataValue.setValue(0)\n",
        "        self.dlg.sbNoDataClass.setValue(0)\n",
        "        # Populate the comboBox with names of all the loaded layers\n",
        "        layers = QgsProject.instance().layerTreeRoot().children()\n",
        "        self.dlg.TestInputList.addItems([layer.name() for layer in layers])\n",
        "        self.dlg.leParameters.setText(\"None;1e-9\")\n",
        "        self.dlg.ptLog.clear()\n",
        "        self.dlg.progressBar.setValue(0)"
      ],
      "metadata": {
        "id": "k_8HrQ5ZmuXd"
      },
      "execution_count": null,
      "outputs": []
    },
    {
      "cell_type": "markdown",
      "source": [
        "\n",
        "The `reloadLayers()` method is defined within a class. It is responsible for reloading the layers in the QGIS project.\n",
        "\n",
        "It first retrieves the list of layer children from the root of the layer tree using `QgsProject.instance().layerTreeRoot().children()`.\n",
        "\n",
        "The retrieved layers are stored in the `layers` variable.The code then uses a list comprehension to extract the name of each layer in the layers list.\n",
        "\n",
        "Finally, it adds the layer names to the `TestInputList` widget in the dialog using the `addItems` method.\n",
        "\n",
        "In summary, the `reloadLayers()` function retrieves the layers from the QGIS project and adds their names to the `TestInputList` widget in the plugin's dialog, allowing the user to select the desired layers for further processing or analysis.\n",
        "\n"
      ],
      "metadata": {
        "id": "uRjKLn_C7FrQ"
      }
    },
    {
      "cell_type": "code",
      "source": [
        "    def reloadLayers(self):\n",
        "        layers = QgsProject.instance().layerTreeRoot().children()\n",
        "        self.dlg.TestInputList.addItems([layer.name() for layer in layers])\n"
      ],
      "metadata": {
        "id": "UffIx0SS7GYU"
      },
      "execution_count": null,
      "outputs": []
    },
    {
      "cell_type": "markdown",
      "source": [
        "Lastly, the `run()` function is the one function that recalls all the others, performing all the work.\n",
        "\n",
        "It creates the dialog with its elements.\n",
        "\n",
        "If it is the dialog first time being started, it sets it to false and connects all the various buttons and widgets.\n",
        "\n",
        "It fetches the layers present in QGIS and populates the widgets with the layer names.\n",
        "\n",
        "Here the messageBar is also implemented as an element of the GUI, and it is then passed as an argument to` supervisedclass()`.\n",
        "\n",
        "If OK was clicked, the whole process starts, as the user has selected in the GUI."
      ],
      "metadata": {
        "id": "6Jj2MKr1mxBb"
      }
    },
    {
      "cell_type": "code",
      "source": [
        "    def run(self):\n",
        "        \"\"\"Run method that performs all the real work\"\"\"\n",
        "        # Create the dialog with elements (after translation) and keep reference\n",
        "        # Only create GUI ONCE in callback, so that it will only load when the plugin is started\n",
        "        if self.first_start == True:\n",
        "            self.first_start = False\n",
        "            self.dlg = ThematicClassificationDialog()\n",
        "            self.dlg.pbBrowseClass.clicked.connect(self.selectClassifiedFile)\n",
        "            self.dlg.pbModelName.clicked.connect(self.selectModelFile)\n",
        "            self.dlg.pbBrowseModel.clicked.connect(self.selectExistentModel)\n",
        "            self.dlg.cSVM.clicked.connect(self.changeparameters)\n",
        "            self.dlg.cGaussianNB.clicked.connect(self.changeparameters)\n",
        "            self.dlg.cLogReg.clicked.connect(self.changeparameters)\n",
        "            self.dlg.cNearestN.clicked.connect(self.changeparameters)\n",
        "            self.dlg.cNeuralNetwork.clicked.connect(self.changeparameters)\n",
        "            self.dlg.cRandForest.clicked.connect(self.changeparameters)\n",
        "            self.dlg.cKmeans.clicked.connect(self.changeparameters)\n",
        "            self.dlg.pbHelp.clicked.connect(self.opendocumentationpage)\n",
        "            self.dlg.buttonBox.accepted.disconnect()\n",
        "            self.dlg.buttonBox.accepted.connect(self.run)\n",
        "            self.dlg.pbReset.clicked.connect(self.resetUI)\n",
        "            self.dlg.pbReload.clicked.connect(self.reloadLayers)\n",
        "            # Fetch the currently loaded layers\n",
        "            layers = QgsProject.instance().layerTreeRoot().children()\n",
        "            # Clear the contents of the comboBox and Lists from previous runs\n",
        "            self.dlg.TestInputList.clear()\n",
        "            self.dlg.leClassName.clear()\n",
        "            self.dlg.leModelName.clear()\n",
        "            self.dlg.leModelNameEx.clear()\n",
        "            # Populate the comboBox with names of all the loaded layers\n",
        "            self.dlg.TestInputList.addItems([layer.name() for layer in layers])\n",
        "            self.dlg.leParameters.setText(\"None;1e-9\")\n",
        "\n",
        "        #insert message bar in layout\n",
        "        current_layout = self.dlg.layout()\n",
        "\n",
        "        #create a container widget\n",
        "        widget = QWidget(self.dlg)\n",
        "        #current_layout.addWidget(widget)\n",
        "\n",
        "        #creates message bar\n",
        "        my_msg_bar = QgsMessageBar(self.dlg)\n",
        "\n",
        "        #sets size policy for message bar\n",
        "        size_policy = QSizePolicy(QSizePolicy.Expanding, QSizePolicy.Fixed)\n",
        "        my_msg_bar.setSizePolicy(size_policy)\n",
        "\n",
        "        #add message bar to container widget\n",
        "        current_layout.addWidget(my_msg_bar)\n",
        "        # show the dialog\n",
        "        self.dlg.show()\n",
        "        # Run the dialog event loop\n",
        "        result = self.dlg.exec_()\n",
        "\n",
        "        # See if OK was pressed\n",
        "        if result:\n",
        "            self.supervisedclass(my_msg_bar)"
      ],
      "metadata": {
        "id": "yXM-DyH7mxZ4"
      },
      "execution_count": null,
      "outputs": []
    }
  ]
}